{
  "nbformat": 4,
  "nbformat_minor": 0,
  "metadata": {
    "colab": {
      "provenance": []
    },
    "kernelspec": {
      "name": "python3",
      "display_name": "Python 3"
    },
    "language_info": {
      "name": "python"
    }
  },
  "cells": [
    {
      "cell_type": "code",
      "execution_count": null,
      "metadata": {
        "id": "IPmgVMYQHg3w"
      },
      "outputs": [],
      "source": [
        "# Import library\n",
        "import networkx as nx\n",
        "import matplotlib.pyplot as plt\n",
        "\n",
        "# Inisialisasi graf\n",
        "G = nx.Graph()\n",
        "\n",
        "# List karyawan (nodes)\n",
        "employees = [\"bulan\", \"ayu\", \"yohani\", \"trisno\", \"syahan\",\n",
        "             \"raju\", \"heru\", \"nopiana\", \"wely\", \"laila\"]\n",
        "\n",
        "# Shift kerja per hari untuk setiap karyawan\n",
        "shifts = {\n",
        "    \"mon\": [\"pg\", \"siang\", \"pg\", \"siang\", \"pg\", \"pg\", \"siang\", \"siang\", \"pg\", \"off\"],\n",
        "    \"tue\": [\"siang\", \"pg\", \"pg\", \"off\", \"pg\", \"siang\", \"siang\", \"siang\", \"pg\", \"pg\"],\n",
        "    \"wed\": [\"siang\", \"off\", \"pg\", \"pg\", \"siang\", \"off\", \"siang\", \"siang\", \"pg\", \"pg\"],\n",
        "    \"thu\": [\"pg\", \"siang\", \"pg\", \"pg\", \"siang\", \"siang\", \"pg\", \"siang\", \"pg\", \"pg\"],\n",
        "    \"fri\": [\"siang\", \"pg\", \"pg\", \"pg\", \"siang\", \"siang\", \"pg\", \"off\", \"off\", \"pg\"],\n",
        "    \"sat\": [\"siang\", \"pg\", \"pg\", \"pg\", \"siang\", \"siang\", \"pg\", \"pg\", \"siang\", \"pg\"],\n",
        "    \"sun\": [\"pg\", \"siang\", \"off\", \"pg\", \"siang\", \"siang\", \"pg\", \"pg\", \"siang\", \"pg\"]\n",
        "}\n",
        "\n",
        "# Membuat edges jika ada shift yang sama di hari yang sama\n",
        "for day in shifts:\n",
        "    for i in range(len(employees)):\n",
        "        for j in range(i+1, len(employees)):\n",
        "            if shifts[day][i] != \"off\" and shifts[day][i] == shifts[day][j]:\n",
        "                G.add_edge(employees[i], employees[j])\n",
        "\n",
        "# Pewarnaan graf dengan algoritma greedy\n",
        "color_map = nx.coloring.greedy_color(G, strategy=\"largest_first\")\n",
        "\n",
        "# Konversi warna menjadi daftar warna untuk plotting\n",
        "colors = [\"red\", \"blue\", \"green\", \"orange\", \"purple\", \"yellow\"]\n",
        "node_colors = [colors[color_map[node] % len(colors)] for node in G.nodes]\n",
        "\n",
        "# Visualisasi graf\n",
        "plt.figure(figsize=(12, 8))\n",
        "nx.draw(G, with_labels=True, node_color=node_colors, node_size=2000, font_color=\"black\")\n",
        "plt.title(\"Pewarnaan Graf Berdasarkan Jadwal Shift Kerja\")\n",
        "plt.show()\n"
      ]
    }
  ]
}